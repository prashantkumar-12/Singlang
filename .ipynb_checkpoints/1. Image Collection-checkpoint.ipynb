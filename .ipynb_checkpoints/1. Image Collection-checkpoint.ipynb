{
 "cells": [
  {
   "cell_type": "markdown",
   "metadata": {},
   "source": [
    "# 1. Import Dependencies"
   ]
  },
  {
   "cell_type": "code",
   "execution_count": 1,
   "metadata": {},
   "outputs": [
    {
     "name": "stdout",
     "output_type": "stream",
     "text": [
      "Collecting opencv-python\n",
      "  Using cached opencv_python-4.6.0.66-cp36-abi3-win_amd64.whl (35.6 MB)\n",
      "Collecting numpy>=1.17.3\n",
      "  Using cached numpy-1.23.0-cp39-cp39-win_amd64.whl (14.7 MB)\n",
      "Installing collected packages: numpy, opencv-python\n",
      "Successfully installed numpy-1.23.0 opencv-python-4.6.0.66\n"
     ]
    }
   ],
   "source": [
    "!pip install opencv-python"
   ]
  },
  {
   "cell_type": "code",
   "execution_count": 1,
   "metadata": {},
   "outputs": [],
   "source": [
    "# Import opencv\n",
    "import cv2 \n",
    "\n",
    "# Import uuid\n",
    "import uuid\n",
    "\n",
    "# Import Operating System\n",
    "import os\n",
    "\n",
    "# Import time\n",
    "import time"
   ]
  },
  {
   "cell_type": "markdown",
   "metadata": {},
   "source": [
    "# 2. Define Images to Collect"
   ]
  },
  {
   "cell_type": "code",
   "execution_count": 13,
   "metadata": {},
   "outputs": [],
   "source": [
    "labels = ['thumbsup', 'thumbsdown', 'thankyou', 'livelong', 'yes', 'no', 'hurt', 'stop', 'iloveyou']\n",
    "labels = ['stop']\n",
    "number_imgs = 8"
   ]
  },
  {
   "cell_type": "markdown",
   "metadata": {},
   "source": [
    "# 3. Setup Folders "
   ]
  },
  {
   "cell_type": "code",
   "execution_count": 14,
   "metadata": {},
   "outputs": [],
   "source": [
    "IMAGES_PATH = os.path.join('Tensorflow', 'workspace', 'images', 'collectedimages')"
   ]
  },
  {
   "cell_type": "code",
   "execution_count": 15,
   "metadata": {},
   "outputs": [],
   "source": [
    "if not os.path.exists(IMAGES_PATH):\n",
    "    if os.name == 'posix':\n",
    "        !mkdir -p {IMAGES_PATH}\n",
    "    if os.name == 'nt':\n",
    "         !mkdir {IMAGES_PATH}\n",
    "for label in labels:\n",
    "    path = os.path.join(IMAGES_PATH, label)\n",
    "    if not os.path.exists(path):\n",
    "        !mkdir {path}"
   ]
  },
  {
   "cell_type": "markdown",
   "metadata": {},
   "source": [
    "# 4. Capture Images"
   ]
  },
  {
   "cell_type": "code",
   "execution_count": 16,
   "metadata": {},
   "outputs": [
    {
     "name": "stdout",
     "output_type": "stream",
     "text": [
      "Collecting images for stop\n",
      "Collecting image 0\n",
      "Collecting image 1\n",
      "Collecting image 2\n",
      "Collecting image 3\n",
      "Collecting image 4\n",
      "Collecting image 5\n",
      "Collecting image 6\n",
      "Collecting image 7\n"
     ]
    }
   ],
   "source": [
    "for label in labels:\n",
    "    cap = cv2.VideoCapture(0)\n",
    "    print('Collecting images for {}'.format(label))\n",
    "    time.sleep(5)\n",
    "    for imgnum in range(number_imgs):\n",
    "        print('Collecting image {}'.format(imgnum))\n",
    "        ret, frame = cap.read()\n",
    "        imgname = os.path.join(IMAGES_PATH,label,label+'.'+'{}.jpg'.format(str(uuid.uuid1())))\n",
    "        cv2.imwrite(imgname, frame)\n",
    "        cv2.imshow('frame', frame)\n",
    "        time.sleep(2)\n",
    "\n",
    "        if cv2.waitKey(1) & 0xFF == ord('q'):\n",
    "            break\n",
    "cap.release()\n",
    "cv2.destroyAllWindows()"
   ]
  },
  {
   "cell_type": "markdown",
   "metadata": {},
   "source": [
    "# 5. Image Labelling"
   ]
  },
  {
   "cell_type": "code",
   "execution_count": 7,
   "metadata": {},
   "outputs": [
    {
     "name": "stdout",
     "output_type": "stream",
     "text": [
      "Collecting pyqt5\n",
      "  Using cached PyQt5-5.15.7-cp37-abi3-win_amd64.whl (6.8 MB)\n",
      "Collecting lxml\n",
      "  Using cached lxml-4.9.0-cp39-cp39-win_amd64.whl (3.6 MB)\n",
      "Collecting PyQt5-Qt5>=5.15.0\n",
      "  Using cached PyQt5_Qt5-5.15.2-py3-none-win_amd64.whl (50.1 MB)\n",
      "Collecting PyQt5-sip<13,>=12.11\n",
      "  Downloading PyQt5_sip-12.11.0-cp39-cp39-win_amd64.whl (78 kB)\n",
      "     ---------------------------------------- 78.3/78.3 kB 2.2 MB/s eta 0:00:00\n",
      "Installing collected packages: PyQt5-Qt5, PyQt5-sip, lxml, pyqt5\n",
      "Successfully installed PyQt5-Qt5-5.15.2 PyQt5-sip-12.11.0 lxml-4.9.0 pyqt5-5.15.7\n"
     ]
    }
   ],
   "source": [
    "!pip install --upgrade pyqt5 lxml"
   ]
  },
  {
   "cell_type": "code",
   "execution_count": 17,
   "metadata": {},
   "outputs": [],
   "source": [
    "LABELIMG_PATH = os.path.join('Tensorflow', 'labelimg')"
   ]
  },
  {
   "cell_type": "code",
   "execution_count": 18,
   "metadata": {},
   "outputs": [],
   "source": [
    "if not os.path.exists(LABELIMG_PATH):\n",
    "    !mkdir {LABELIMG_PATH}\n",
    "    !git clone https://github.com/tzutalin/labelImg {LABELIMG_PATH}"
   ]
  },
  {
   "cell_type": "code",
   "execution_count": 19,
   "metadata": {},
   "outputs": [],
   "source": [
    "if os.name == 'posix':\n",
    "    !cd {LABELIMG_PATH} && make qt5py3\n",
    "if os.name =='nt':\n",
    "    !cd {LABELIMG_PATH} && pyrcc5 -o libs/resources.py resources.qrc"
   ]
  },
  {
   "cell_type": "code",
   "execution_count": 20,
   "metadata": {},
   "outputs": [
    {
     "name": "stdout",
     "output_type": "stream",
     "text": [
      "Image:D:\\TOD\\TFODCourse\\Tensorflow\\workspace\\images\\collectedimages\\hurt\\hurt.8a3bcc68-f544-11ec-a735-8c8caa179ed8.jpg -> Annotation:D:/TOD/TFODCourse/Tensorflow/workspace/images/collectedimages/hurt\\hurt.8a3bcc68-f544-11ec-a735-8c8caa179ed8.xml\n",
      "Image:D:\\TOD\\TFODCourse\\Tensorflow\\workspace\\images\\collectedimages\\hurt\\hurt.8a3bcc68-f544-11ec-a735-8c8caa179ed8.jpg -> Annotation:D:/TOD/TFODCourse/Tensorflow/workspace/images/collectedimages/hurt\\hurt.8a3bcc68-f544-11ec-a735-8c8caa179ed8.xml\n",
      "Image:D:\\TOD\\TFODCourse\\Tensorflow\\workspace\\images\\collectedimages\\hurt\\hurt.8b74bade-f544-11ec-ad18-8c8caa179ed8.jpg -> Annotation:D:/TOD/TFODCourse/Tensorflow/workspace/images/collectedimages/hurt\\hurt.8b74bade-f544-11ec-ad18-8c8caa179ed8.xml\n",
      "Image:D:\\TOD\\TFODCourse\\Tensorflow\\workspace\\images\\collectedimages\\hurt\\hurt.8ca899bb-f544-11ec-b417-8c8caa179ed8.jpg -> Annotation:D:/TOD/TFODCourse/Tensorflow/workspace/images/collectedimages/hurt\\hurt.8ca899bb-f544-11ec-b417-8c8caa179ed8.xml\n",
      "Cancel creation.\n",
      "Cancel creation.\n",
      "Image:D:\\TOD\\TFODCourse\\Tensorflow\\workspace\\images\\collectedimages\\hurt\\hurt.87c4c5c9-f544-11ec-83d5-8c8caa179ed8.jpg -> Annotation:D:/TOD/TFODCourse/Tensorflow/workspace/images/collectedimages/hurt\\hurt.87c4c5c9-f544-11ec-83d5-8c8caa179ed8.xml\n",
      "Image:D:\\TOD\\TFODCourse\\Tensorflow\\workspace\\images\\collectedimages\\hurt\\hurt.88f8e4be-f544-11ec-a7ef-8c8caa179ed8.jpg -> Annotation:D:/TOD/TFODCourse/Tensorflow/workspace/images/collectedimages/hurt\\hurt.88f8e4be-f544-11ec-a7ef-8c8caa179ed8.xml\n",
      "Image:D:\\TOD\\TFODCourse\\Tensorflow\\workspace\\images\\collectedimages\\hurt\\hurt.868fc1d6-f544-11ec-99df-8c8caa179ed8.jpg -> Annotation:D:/TOD/TFODCourse/Tensorflow/workspace/images/collectedimages/hurt\\hurt.868fc1d6-f544-11ec-99df-8c8caa179ed8.xml\n",
      "Image:D:\\TOD\\TFODCourse\\Tensorflow\\workspace\\images\\collectedimages\\hurt\\hurt.85599d70-f544-11ec-82b0-8c8caa179ed8.jpg -> Annotation:D:/TOD/TFODCourse/Tensorflow/workspace/images/collectedimages/hurt\\hurt.85599d70-f544-11ec-82b0-8c8caa179ed8.xml\n",
      "Image:D:\\TOD\\TFODCourse\\Tensorflow\\workspace\\images\\collectedimages\\hurt\\hurt.84227172-f544-11ec-bbd3-8c8caa179ed8.jpg -> Annotation:D:/TOD/TFODCourse/Tensorflow/workspace/images/collectedimages/hurt\\hurt.84227172-f544-11ec-bbd3-8c8caa179ed8.xml\n",
      "Image:D:\\TOD\\TFODCourse\\Tensorflow\\workspace\\images\\collectedimages\\iloveyou\\iloveyou.8cd1e305-f543-11ec-b4c4-8c8caa179ed8.jpg -> Annotation:D:/TOD/TFODCourse/Tensorflow/workspace/images/collectedimages/iloveyou\\iloveyou.8cd1e305-f543-11ec-b4c4-8c8caa179ed8.xml\n",
      "Image:D:\\TOD\\TFODCourse\\Tensorflow\\workspace\\images\\collectedimages\\iloveyou\\iloveyou.8e0945e2-f543-11ec-a3e2-8c8caa179ed8.jpg -> Annotation:D:/TOD/TFODCourse/Tensorflow/workspace/images/collectedimages/iloveyou\\iloveyou.8e0945e2-f543-11ec-a3e2-8c8caa179ed8.xml\n",
      "Image:D:\\TOD\\TFODCourse\\Tensorflow\\workspace\\images\\collectedimages\\iloveyou\\iloveyou.8f3f120d-f543-11ec-85b1-8c8caa179ed8.jpg -> Annotation:D:/TOD/TFODCourse/Tensorflow/workspace/images/collectedimages/iloveyou\\iloveyou.8f3f120d-f543-11ec-85b1-8c8caa179ed8.xml\n",
      "Cancel creation.\n",
      "Image:D:\\TOD\\TFODCourse\\Tensorflow\\workspace\\images\\collectedimages\\iloveyou\\iloveyou.91ae9b64-f543-11ec-9441-8c8caa179ed8.jpg -> Annotation:D:/TOD/TFODCourse/Tensorflow/workspace/images/collectedimages/iloveyou\\iloveyou.91ae9b64-f543-11ec-9441-8c8caa179ed8.xml\n",
      "Image:D:\\TOD\\TFODCourse\\Tensorflow\\workspace\\images\\collectedimages\\iloveyou\\iloveyou.92e6be2c-f543-11ec-bfe7-8c8caa179ed8.jpg -> Annotation:D:/TOD/TFODCourse/Tensorflow/workspace/images/collectedimages/iloveyou\\iloveyou.92e6be2c-f543-11ec-bfe7-8c8caa179ed8.xml\n",
      "Image:D:\\TOD\\TFODCourse\\Tensorflow\\workspace\\images\\collectedimages\\iloveyou\\iloveyou.941c636f-f543-11ec-8c6a-8c8caa179ed8.jpg -> Annotation:D:/TOD/TFODCourse/Tensorflow/workspace/images/collectedimages/iloveyou\\iloveyou.941c636f-f543-11ec-8c6a-8c8caa179ed8.xml\n",
      "Image:D:\\TOD\\TFODCourse\\Tensorflow\\workspace\\images\\collectedimages\\iloveyou\\iloveyou.9552ea88-f543-11ec-bf60-8c8caa179ed8.jpg -> Annotation:D:/TOD/TFODCourse/Tensorflow/workspace/images/collectedimages/iloveyou\\iloveyou.9552ea88-f543-11ec-bf60-8c8caa179ed8.xml\n",
      "Image:D:\\TOD\\TFODCourse\\Tensorflow\\workspace\\images\\collectedimages\\iloveyou\\iloveyou.9552ea88-f543-11ec-bf60-8c8caa179ed8.jpg -> Annotation:D:/TOD/TFODCourse/Tensorflow/workspace/images/collectedimages/iloveyou\\iloveyou.9552ea88-f543-11ec-bf60-8c8caa179ed8.xml\n",
      "Image:D:\\TOD\\TFODCourse\\Tensorflow\\workspace\\images\\collectedimages\\iloveyou\\iloveyou.907776a8-f543-11ec-8ce3-8c8caa179ed8.jpg -> Annotation:D:/TOD/TFODCourse/Tensorflow/workspace/images/collectedimages/iloveyou\\iloveyou.907776a8-f543-11ec-8ce3-8c8caa179ed8.xml\n",
      "Image:D:\\TOD\\TFODCourse\\Tensorflow\\workspace\\images\\collectedimages\\livelong\\livelong.4a4646c8-f543-11ec-a19c-8c8caa179ed8.jpg -> Annotation:D:/TOD/TFODCourse/Tensorflow/workspace/images/collectedimages/livelong\\livelong.4a4646c8-f543-11ec-a19c-8c8caa179ed8.xml\n",
      "Cancel creation.\n",
      "Image:D:\\TOD\\TFODCourse\\Tensorflow\\workspace\\images\\collectedimages\\livelong\\livelong.42df019a-f543-11ec-a8ba-8c8caa179ed8.jpg -> Annotation:D:/TOD/TFODCourse/Tensorflow/workspace/images/collectedimages/livelong\\livelong.42df019a-f543-11ec-a8ba-8c8caa179ed8.xml\n",
      "Image:D:\\TOD\\TFODCourse\\Tensorflow\\workspace\\images\\collectedimages\\livelong\\livelong.47c8e69f-f543-11ec-9a5d-8c8caa179ed8.jpg -> Annotation:D:/TOD/TFODCourse/Tensorflow/workspace/images/collectedimages/livelong\\livelong.47c8e69f-f543-11ec-9a5d-8c8caa179ed8.xml\n",
      "Image:D:\\TOD\\TFODCourse\\Tensorflow\\workspace\\images\\collectedimages\\livelong\\livelong.48ff9e8d-f543-11ec-9269-8c8caa179ed8.jpg -> Annotation:D:/TOD/TFODCourse/Tensorflow/workspace/images/collectedimages/livelong\\livelong.48ff9e8d-f543-11ec-9269-8c8caa179ed8.xml\n",
      "Image:D:\\TOD\\TFODCourse\\Tensorflow\\workspace\\images\\collectedimages\\livelong\\livelong.419ace4a-f543-11ec-bb19-8c8caa179ed8.jpg -> Annotation:D:/TOD/TFODCourse/Tensorflow/workspace/images/collectedimages/livelong\\livelong.419ace4a-f543-11ec-bb19-8c8caa179ed8.xml\n",
      "Image:D:\\TOD\\TFODCourse\\Tensorflow\\workspace\\images\\collectedimages\\livelong\\livelong.455c228a-f543-11ec-9e01-8c8caa179ed8.jpg -> Annotation:D:/TOD/TFODCourse/Tensorflow/workspace/images/collectedimages/livelong\\livelong.455c228a-f543-11ec-9e01-8c8caa179ed8.xml\n",
      "Image:D:\\TOD\\TFODCourse\\Tensorflow\\workspace\\images\\collectedimages\\livelong\\livelong.4424cb03-f543-11ec-8eb5-8c8caa179ed8.jpg -> Annotation:D:/TOD/TFODCourse/Tensorflow/workspace/images/collectedimages/livelong\\livelong.4424cb03-f543-11ec-8eb5-8c8caa179ed8.xml\n",
      "Image:D:\\TOD\\TFODCourse\\Tensorflow\\workspace\\images\\collectedimages\\livelong\\livelong.469329fc-f543-11ec-88fc-8c8caa179ed8.jpg -> Annotation:D:/TOD/TFODCourse/Tensorflow/workspace/images/collectedimages/livelong\\livelong.469329fc-f543-11ec-88fc-8c8caa179ed8.xml\n",
      "Image:D:\\TOD\\TFODCourse\\Tensorflow\\workspace\\images\\collectedimages\\no\\no.5f9be707-f543-11ec-8699-8c8caa179ed8.jpg -> Annotation:D:/TOD/TFODCourse/Tensorflow/workspace/images/collectedimages/no\\no.5f9be707-f543-11ec-8699-8c8caa179ed8.xml\n",
      "Image:D:\\TOD\\TFODCourse\\Tensorflow\\workspace\\images\\collectedimages\\no\\no.60cf0619-f543-11ec-9c18-8c8caa179ed8.jpg -> Annotation:D:/TOD/TFODCourse/Tensorflow/workspace/images/collectedimages/no\\no.60cf0619-f543-11ec-9c18-8c8caa179ed8.xml\n",
      "Image:D:\\TOD\\TFODCourse\\Tensorflow\\workspace\\images\\collectedimages\\no\\no.65a4bebb-f543-11ec-93b6-8c8caa179ed8.jpg -> Annotation:D:/TOD/TFODCourse/Tensorflow/workspace/images/collectedimages/no\\no.65a4bebb-f543-11ec-93b6-8c8caa179ed8.xml\n",
      "Image:D:\\TOD\\TFODCourse\\Tensorflow\\workspace\\images\\collectedimages\\no\\no.65a4bebb-f543-11ec-93b6-8c8caa179ed8.jpg -> Annotation:D:/TOD/TFODCourse/Tensorflow/workspace/images/collectedimages/no\\no.65a4bebb-f543-11ec-93b6-8c8caa179ed8.xml\n",
      "Image:D:\\TOD\\TFODCourse\\Tensorflow\\workspace\\images\\collectedimages\\no\\no.66dac78c-f543-11ec-b803-8c8caa179ed8.jpg -> Annotation:D:/TOD/TFODCourse/Tensorflow/workspace/images/collectedimages/no\\no.66dac78c-f543-11ec-b803-8c8caa179ed8.xml\n",
      "Image:D:\\TOD\\TFODCourse\\Tensorflow\\workspace\\images\\collectedimages\\no\\no.646e6937-f543-11ec-95cc-8c8caa179ed8.jpg -> Annotation:D:/TOD/TFODCourse/Tensorflow/workspace/images/collectedimages/no\\no.646e6937-f543-11ec-95cc-8c8caa179ed8.xml\n",
      "Image:D:\\TOD\\TFODCourse\\Tensorflow\\workspace\\images\\collectedimages\\no\\no.6339fa44-f543-11ec-8912-8c8caa179ed8.jpg -> Annotation:D:/TOD/TFODCourse/Tensorflow/workspace/images/collectedimages/no\\no.6339fa44-f543-11ec-8912-8c8caa179ed8.xml\n",
      "Image:D:\\TOD\\TFODCourse\\Tensorflow\\workspace\\images\\collectedimages\\no\\no.62041bf2-f543-11ec-a392-8c8caa179ed8.jpg -> Annotation:D:/TOD/TFODCourse/Tensorflow/workspace/images/collectedimages/no\\no.62041bf2-f543-11ec-a392-8c8caa179ed8.xml\n",
      "Image:D:\\TOD\\TFODCourse\\Tensorflow\\workspace\\images\\collectedimages\\no\\no.6812573f-f543-11ec-9bc8-8c8caa179ed8.jpg -> Annotation:D:/TOD/TFODCourse/Tensorflow/workspace/images/collectedimages/no\\no.6812573f-f543-11ec-9bc8-8c8caa179ed8.xml\n",
      "Image:D:\\TOD\\TFODCourse\\Tensorflow\\workspace\\images\\collectedimages\\stop\\stop.0e228e29-f546-11ec-8c37-8c8caa179ed8.jpg -> Annotation:D:/TOD/TFODCourse/Tensorflow/workspace/images/collectedimages/no\\stop.0e228e29-f546-11ec-8c37-8c8caa179ed8.xml\n",
      "Image:D:\\TOD\\TFODCourse\\Tensorflow\\workspace\\images\\collectedimages\\stop\\stop.0f57b845-f546-11ec-ae1a-8c8caa179ed8.jpg -> Annotation:D:/TOD/TFODCourse/Tensorflow/workspace/images/collectedimages/no\\stop.0f57b845-f546-11ec-ae1a-8c8caa179ed8.xml\n",
      "Image:D:\\TOD\\TFODCourse\\Tensorflow\\workspace\\images\\collectedimages\\stop\\stop.11c79fec-f546-11ec-9761-8c8caa179ed8.jpg -> Annotation:D:/TOD/TFODCourse/Tensorflow/workspace/images/collectedimages/no\\stop.11c79fec-f546-11ec-9761-8c8caa179ed8.xml\n",
      "Image:D:\\TOD\\TFODCourse\\Tensorflow\\workspace\\images\\collectedimages\\stop\\stop.12fc8193-f546-11ec-a28f-8c8caa179ed8.jpg -> Annotation:D:/TOD/TFODCourse/Tensorflow/workspace/images/collectedimages/no\\stop.12fc8193-f546-11ec-a28f-8c8caa179ed8.xml\n",
      "Image:D:\\TOD\\TFODCourse\\Tensorflow\\workspace\\images\\collectedimages\\stop\\stop.108f470f-f546-11ec-95b0-8c8caa179ed8.jpg -> Annotation:D:/TOD/TFODCourse/Tensorflow/workspace/images/collectedimages/no\\stop.108f470f-f546-11ec-95b0-8c8caa179ed8.xml\n",
      "Image:D:\\TOD\\TFODCourse\\Tensorflow\\workspace\\images\\collectedimages\\stop\\stop.169a2f89-f546-11ec-b10a-8c8caa179ed8.jpg -> Annotation:D:/TOD/TFODCourse/Tensorflow/workspace/images/collectedimages/no\\stop.169a2f89-f546-11ec-b10a-8c8caa179ed8.xml\n",
      "Image:D:\\TOD\\TFODCourse\\Tensorflow\\workspace\\images\\collectedimages\\stop\\stop.1430ee53-f546-11ec-b03d-8c8caa179ed8.jpg -> Annotation:D:/TOD/TFODCourse/Tensorflow/workspace/images/collectedimages/no\\stop.1430ee53-f546-11ec-b03d-8c8caa179ed8.xml\n",
      "Image:D:\\TOD\\TFODCourse\\Tensorflow\\workspace\\images\\collectedimages\\stop\\stop.15653a96-f546-11ec-9eeb-8c8caa179ed8.jpg -> Annotation:D:/TOD/TFODCourse/Tensorflow/workspace/images/collectedimages/no\\stop.15653a96-f546-11ec-9eeb-8c8caa179ed8.xml\n",
      "Image:D:\\TOD\\TFODCourse\\Tensorflow\\workspace\\images\\collectedimages\\thankyou\\thankyou.3a0bb0c0-f543-11ec-afad-8c8caa179ed8.jpg -> Annotation:D:/TOD/TFODCourse/Tensorflow/workspace/images/collectedimages/no\\thankyou.3a0bb0c0-f543-11ec-afad-8c8caa179ed8.xml\n",
      "Image:D:\\TOD\\TFODCourse\\Tensorflow\\workspace\\images\\collectedimages\\thankyou\\thankyou.3b41d2d1-f543-11ec-9d34-8c8caa179ed8.jpg -> Annotation:D:/TOD/TFODCourse/Tensorflow/workspace/images/collectedimages/no\\thankyou.3b41d2d1-f543-11ec-9d34-8c8caa179ed8.xml\n",
      "Image:D:\\TOD\\TFODCourse\\Tensorflow\\workspace\\images\\collectedimages\\thankyou\\thankyou.32bb14fc-f543-11ec-8c48-8c8caa179ed8.jpg -> Annotation:D:/TOD/TFODCourse/Tensorflow/workspace/images/collectedimages/no\\thankyou.32bb14fc-f543-11ec-8c48-8c8caa179ed8.xml\n",
      "Image:D:\\TOD\\TFODCourse\\Tensorflow\\workspace\\images\\collectedimages\\thankyou\\thankyou.33ee6eef-f543-11ec-ac40-8c8caa179ed8.jpg -> Annotation:D:/TOD/TFODCourse/Tensorflow/workspace/images/collectedimages/no\\thankyou.33ee6eef-f543-11ec-ac40-8c8caa179ed8.xml\n",
      "Image:D:\\TOD\\TFODCourse\\Tensorflow\\workspace\\images\\collectedimages\\thankyou\\thankyou.38d5f52d-f543-11ec-bed9-8c8caa179ed8.jpg -> Annotation:D:/TOD/TFODCourse/Tensorflow/workspace/images/collectedimages/no\\thankyou.38d5f52d-f543-11ec-bed9-8c8caa179ed8.xml\n",
      "Image:D:\\TOD\\TFODCourse\\Tensorflow\\workspace\\images\\collectedimages\\thankyou\\thankyou.366ac288-f543-11ec-afd1-8c8caa179ed8.jpg -> Annotation:D:/TOD/TFODCourse/Tensorflow/workspace/images/collectedimages/no\\thankyou.366ac288-f543-11ec-afd1-8c8caa179ed8.xml\n",
      "Image:D:\\TOD\\TFODCourse\\Tensorflow\\workspace\\images\\collectedimages\\thankyou\\thankyou.379fb989-f543-11ec-9945-8c8caa179ed8.jpg -> Annotation:D:/TOD/TFODCourse/Tensorflow/workspace/images/collectedimages/no\\thankyou.379fb989-f543-11ec-9945-8c8caa179ed8.xml\n",
      "Image:D:\\TOD\\TFODCourse\\Tensorflow\\workspace\\images\\collectedimages\\thankyou\\thankyou.35339f70-f543-11ec-9353-8c8caa179ed8.jpg -> Annotation:D:/TOD/TFODCourse/Tensorflow/workspace/images/collectedimages/no\\thankyou.35339f70-f543-11ec-9353-8c8caa179ed8.xml\n",
      "Cancel creation.\n",
      "Image:D:\\TOD\\TFODCourse\\Tensorflow\\workspace\\images\\collectedimages\\thumbsdown\\thumbsdown.2afba28e-f543-11ec-a443-8c8caa179ed8.jpg -> Annotation:D:/TOD/TFODCourse/Tensorflow/workspace/images/collectedimages/no\\thumbsdown.2afba28e-f543-11ec-a443-8c8caa179ed8.xml\n",
      "Image:D:\\TOD\\TFODCourse\\Tensorflow\\workspace\\images\\collectedimages\\thumbsdown\\thumbsdown.2c3e3c34-f543-11ec-857f-8c8caa179ed8.jpg -> Annotation:D:/TOD/TFODCourse/Tensorflow/workspace/images/collectedimages/no\\thumbsdown.2c3e3c34-f543-11ec-857f-8c8caa179ed8.xml\n",
      "Image:D:\\TOD\\TFODCourse\\Tensorflow\\workspace\\images\\collectedimages\\thumbsdown\\thumbsdown.23bb6b00-f543-11ec-b1c7-8c8caa179ed8.jpg -> Annotation:D:/TOD/TFODCourse/Tensorflow/workspace/images/collectedimages/no\\thumbsdown.23bb6b00-f543-11ec-b1c7-8c8caa179ed8.xml\n",
      "Image:D:\\TOD\\TFODCourse\\Tensorflow\\workspace\\images\\collectedimages\\thumbsdown\\thumbsdown.24f25ead-f543-11ec-be46-8c8caa179ed8.jpg -> Annotation:D:/TOD/TFODCourse/Tensorflow/workspace/images/collectedimages/no\\thumbsdown.24f25ead-f543-11ec-be46-8c8caa179ed8.xml\n",
      "Cancel creation.\n",
      "Image:D:\\TOD\\TFODCourse\\Tensorflow\\workspace\\images\\collectedimages\\thumbsdown\\thumbsdown.29c4ff59-f543-11ec-8a0f-8c8caa179ed8.jpg -> Annotation:D:/TOD/TFODCourse/Tensorflow/workspace/images/collectedimages/no\\thumbsdown.29c4ff59-f543-11ec-8a0f-8c8caa179ed8.xml\n",
      "Image:D:\\TOD\\TFODCourse\\Tensorflow\\workspace\\images\\collectedimages\\thumbsdown\\thumbsdown.275b41a1-f543-11ec-8299-8c8caa179ed8.jpg -> Annotation:D:/TOD/TFODCourse/Tensorflow/workspace/images/collectedimages/no\\thumbsdown.275b41a1-f543-11ec-8299-8c8caa179ed8.xml\n",
      "Image:D:\\TOD\\TFODCourse\\Tensorflow\\workspace\\images\\collectedimages\\thumbsdown\\thumbsdown.26256b67-f543-11ec-84d7-8c8caa179ed8.jpg -> Annotation:D:/TOD/TFODCourse/Tensorflow/workspace/images/collectedimages/no\\thumbsdown.26256b67-f543-11ec-84d7-8c8caa179ed8.xml\n",
      "Image:D:\\TOD\\TFODCourse\\Tensorflow\\workspace\\images\\collectedimages\\thumbsdown\\thumbsdown.28916d2f-f543-11ec-8f9b-8c8caa179ed8.jpg -> Annotation:D:/TOD/TFODCourse/Tensorflow/workspace/images/collectedimages/no\\thumbsdown.28916d2f-f543-11ec-8f9b-8c8caa179ed8.xml\n",
      "Image:D:\\TOD\\TFODCourse\\Tensorflow\\workspace\\images\\collectedimages\\thumbsup\\thumbsup.1ad2b120-f543-11ec-ae26-8c8caa179ed8.jpg -> Annotation:D:/TOD/TFODCourse/Tensorflow/workspace/images/collectedimages/thumbsup\\thumbsup.1ad2b120-f543-11ec-ae26-8c8caa179ed8.xml\n",
      "Image:D:\\TOD\\TFODCourse\\Tensorflow\\workspace\\images\\collectedimages\\thumbsup\\thumbsup.1c0986ae-f543-11ec-ac55-8c8caa179ed8.jpg -> Annotation:D:/TOD/TFODCourse/Tensorflow/workspace/images/collectedimages/thumbsup\\thumbsup.1c0986ae-f543-11ec-ac55-8c8caa179ed8.xml\n",
      "Image:D:\\TOD\\TFODCourse\\Tensorflow\\workspace\\images\\collectedimages\\thumbsup\\thumbsup.1d3f44e8-f543-11ec-a22f-8c8caa179ed8.jpg -> Annotation:D:/TOD/TFODCourse/Tensorflow/workspace/images/collectedimages/thumbsup\\thumbsup.1d3f44e8-f543-11ec-a22f-8c8caa179ed8.xml\n",
      "Image:D:\\TOD\\TFODCourse\\Tensorflow\\workspace\\images\\collectedimages\\thumbsup\\thumbsup.15df5c45-f543-11ec-9889-8c8caa179ed8.jpg -> Annotation:D:/TOD/TFODCourse/Tensorflow/workspace/images/collectedimages/thumbsup\\thumbsup.15df5c45-f543-11ec-9889-8c8caa179ed8.xml\n",
      "Image:D:\\TOD\\TFODCourse\\Tensorflow\\workspace\\images\\collectedimages\\thumbsup\\thumbsup.199d1c34-f543-11ec-8d38-8c8caa179ed8.jpg -> Annotation:D:/TOD/TFODCourse/Tensorflow/workspace/images/collectedimages/thumbsup\\thumbsup.199d1c34-f543-11ec-8d38-8c8caa179ed8.xml\n",
      "Image:D:\\TOD\\TFODCourse\\Tensorflow\\workspace\\images\\collectedimages\\thumbsup\\thumbsup.1480e67e-f543-11ec-80c7-8c8caa179ed8.jpg -> Annotation:D:/TOD/TFODCourse/Tensorflow/workspace/images/collectedimages/thumbsup\\thumbsup.1480e67e-f543-11ec-80c7-8c8caa179ed8.xml\n",
      "Image:D:\\TOD\\TFODCourse\\Tensorflow\\workspace\\images\\collectedimages\\thumbsup\\thumbsup.1857c5e0-f543-11ec-8f26-8c8caa179ed8.jpg -> Annotation:D:/TOD/TFODCourse/Tensorflow/workspace/images/collectedimages/thumbsup\\thumbsup.1857c5e0-f543-11ec-8f26-8c8caa179ed8.xml\n",
      "Image:D:\\TOD\\TFODCourse\\Tensorflow\\workspace\\images\\collectedimages\\thumbsup\\thumbsup.1713671c-f543-11ec-99ec-8c8caa179ed8.jpg -> Annotation:D:/TOD/TFODCourse/Tensorflow/workspace/images/collectedimages/thumbsup\\thumbsup.1713671c-f543-11ec-99ec-8c8caa179ed8.xml\n",
      "Image:D:\\TOD\\TFODCourse\\Tensorflow\\workspace\\images\\collectedimages\\yes\\yes.50aadbe8-f543-11ec-9acc-8c8caa179ed8.jpg -> Annotation:D:/TOD/TFODCourse/Tensorflow/workspace/images/collectedimages/yes\\yes.50aadbe8-f543-11ec-9acc-8c8caa179ed8.xml\n",
      "Image:D:\\TOD\\TFODCourse\\Tensorflow\\workspace\\images\\collectedimages\\yes\\yes.51dfb71f-f543-11ec-942b-8c8caa179ed8.jpg -> Annotation:D:/TOD/TFODCourse/Tensorflow/workspace/images/collectedimages/yes\\yes.51dfb71f-f543-11ec-942b-8c8caa179ed8.xml\n",
      "Cancel creation.\n",
      "Image:D:\\TOD\\TFODCourse\\Tensorflow\\workspace\\images\\collectedimages\\yes\\yes.56c8d08b-f543-11ec-9848-8c8caa179ed8.jpg -> Annotation:D:/TOD/TFODCourse/Tensorflow/workspace/images/collectedimages/yes\\yes.56c8d08b-f543-11ec-9848-8c8caa179ed8.xml\n",
      "Image:D:\\TOD\\TFODCourse\\Tensorflow\\workspace\\images\\collectedimages\\yes\\yes.57fd0c42-f543-11ec-ae6b-8c8caa179ed8.jpg -> Annotation:D:/TOD/TFODCourse/Tensorflow/workspace/images/collectedimages/yes\\yes.57fd0c42-f543-11ec-ae6b-8c8caa179ed8.xml\n",
      "Image:D:\\TOD\\TFODCourse\\Tensorflow\\workspace\\images\\collectedimages\\yes\\yes.544e22de-f543-11ec-bd9f-8c8caa179ed8.jpg -> Annotation:D:/TOD/TFODCourse/Tensorflow/workspace/images/collectedimages/yes\\yes.544e22de-f543-11ec-bd9f-8c8caa179ed8.xml\n",
      "Image:D:\\TOD\\TFODCourse\\Tensorflow\\workspace\\images\\collectedimages\\yes\\yes.5581e2b9-f543-11ec-b5eb-8c8caa179ed8.jpg -> Annotation:D:/TOD/TFODCourse/Tensorflow/workspace/images/collectedimages/yes\\yes.5581e2b9-f543-11ec-b5eb-8c8caa179ed8.xml\n",
      "Image:D:\\TOD\\TFODCourse\\Tensorflow\\workspace\\images\\collectedimages\\yes\\yes.531680b5-f543-11ec-a114-8c8caa179ed8.jpg -> Annotation:D:/TOD/TFODCourse/Tensorflow/workspace/images/collectedimages/yes\\yes.531680b5-f543-11ec-a114-8c8caa179ed8.xml\n",
      "Image:D:\\TOD\\TFODCourse\\Tensorflow\\workspace\\images\\collectedimages\\yes\\yes.593313fe-f543-11ec-9751-8c8caa179ed8.jpg -> Annotation:D:/TOD/TFODCourse/Tensorflow/workspace/images/collectedimages/yes\\yes.593313fe-f543-11ec-9751-8c8caa179ed8.xml\n"
     ]
    }
   ],
   "source": [
    "!cd {LABELIMG_PATH} && python labelImg.py"
   ]
  },
  {
   "cell_type": "markdown",
   "metadata": {},
   "source": [
    "# 6. Move them into a Training and Testing Partition"
   ]
  },
  {
   "cell_type": "markdown",
   "metadata": {},
   "source": [
    "# OPTIONAL - 7. Compress them for Colab Training"
   ]
  },
  {
   "cell_type": "code",
   "execution_count": 20,
   "metadata": {},
   "outputs": [],
   "source": [
    "TRAIN_PATH = os.path.join('Tensorflow', 'workspace', 'images', 'train')\n",
    "TEST_PATH = os.path.join('Tensorflow', 'workspace', 'images', 'test')\n",
    "ARCHIVE_PATH = os.path.join('Tensorflow', 'workspace', 'images', 'archive.tar.gz')"
   ]
  },
  {
   "cell_type": "code",
   "execution_count": 21,
   "metadata": {},
   "outputs": [],
   "source": [
    "!tar -czf {ARCHIVE_PATH} {TRAIN_PATH} {TEST_PATH}"
   ]
  },
  {
   "cell_type": "code",
   "execution_count": null,
   "metadata": {},
   "outputs": [],
   "source": []
  }
 ],
 "metadata": {
  "kernelspec": {
   "display_name": "pras",
   "language": "python",
   "name": "pras"
  },
  "language_info": {
   "codemirror_mode": {
    "name": "ipython",
    "version": 3
   },
   "file_extension": ".py",
   "mimetype": "text/x-python",
   "name": "python",
   "nbconvert_exporter": "python",
   "pygments_lexer": "ipython3",
   "version": "3.9.0"
  }
 },
 "nbformat": 4,
 "nbformat_minor": 2
}
